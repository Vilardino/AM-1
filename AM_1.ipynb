{
  "nbformat": 4,
  "nbformat_minor": 0,
  "metadata": {
    "colab": {
      "name": "AM-1.ipynb",
      "provenance": [],
      "collapsed_sections": [],
      "toc_visible": true
    },
    "kernelspec": {
      "display_name": "Python 3",
      "name": "python3"
    }
  },
  "cells": [
    {
      "cell_type": "code",
      "metadata": {
        "id": "V4i7wlRIhFgq"
      },
      "source": [
        "import numpy as np\n",
        "import pandas as pd\n",
        "import seaborn as sns\n",
        "import matplotlib.pyplot as plt\n",
        "\n",
        "from sklearn.preprocessing import MinMaxScaler, StandardScaler\n",
        "\n",
        "import sklearn.metrics\n",
        "from sklearn.metrics import accuracy_score\n",
        "\n",
        "from sklearn.model_selection import train_test_split, cross_val_score, GridSearchCV\n",
        "\n",
        "from sklearn.tree import DecisionTreeClassifier\n",
        "from sklearn.neighbors import KNeighborsClassifier\n",
        "from sklearn import svm\n"
      ],
      "execution_count": 157,
      "outputs": []
    },
    {
      "cell_type": "markdown",
      "metadata": {
        "id": "1TlLowwXHfGk"
      },
      "source": [
        "# Código"
      ]
    },
    {
      "cell_type": "markdown",
      "metadata": {
        "id": "B1o3MtAWAxz1"
      },
      "source": [
        "##Leitura e tabela"
      ]
    },
    {
      "cell_type": "code",
      "metadata": {
        "id": "GSRtAhxTi-Dg"
      },
      "source": [
        "dados = pd.read_csv(\"https://github.com/Vilardino/AM-1/blob/main/Obesidade.csv?raw=true\")\n",
        "scaler = MinMaxScaler() \n",
        "#dados = dados.drop(columns=['Weight']) #quando nao comentado é retirado o peso do dataset\n",
        "X = scaler.fit_transform(dados.iloc[0:, :16].to_numpy()) #trocar para 15 ao remover a coluna\n",
        "Y = dados.iloc[0:,16].values #trocar para 15 ao remover a coluna"
      ],
      "execution_count": 158,
      "outputs": []
    },
    {
      "cell_type": "code",
      "metadata": {
        "id": "qfSeM1ajjL5I",
        "colab": {
          "base_uri": "https://localhost:8080/",
          "height": 204
        },
        "outputId": "b722a9f4-95f8-4762-c72a-f5d4baa6fdbd"
      },
      "source": [
        "#dados.DESCR #ignora q ta dando bo\r\n",
        "dados.head()\r\n"
      ],
      "execution_count": 159,
      "outputs": [
        {
          "output_type": "execute_result",
          "data": {
            "text/html": [
              "<div>\n",
              "<style scoped>\n",
              "    .dataframe tbody tr th:only-of-type {\n",
              "        vertical-align: middle;\n",
              "    }\n",
              "\n",
              "    .dataframe tbody tr th {\n",
              "        vertical-align: top;\n",
              "    }\n",
              "\n",
              "    .dataframe thead th {\n",
              "        text-align: right;\n",
              "    }\n",
              "</style>\n",
              "<table border=\"1\" class=\"dataframe\">\n",
              "  <thead>\n",
              "    <tr style=\"text-align: right;\">\n",
              "      <th></th>\n",
              "      <th>Gender</th>\n",
              "      <th>Age</th>\n",
              "      <th>Height</th>\n",
              "      <th>Weight</th>\n",
              "      <th>family_history_with_overweight</th>\n",
              "      <th>FAVC</th>\n",
              "      <th>FCVC</th>\n",
              "      <th>NCP</th>\n",
              "      <th>CAEC</th>\n",
              "      <th>SMOKE</th>\n",
              "      <th>CH2O</th>\n",
              "      <th>SCC</th>\n",
              "      <th>FAF</th>\n",
              "      <th>TUE</th>\n",
              "      <th>CALC</th>\n",
              "      <th>MTRANS</th>\n",
              "      <th>NObeyesdad</th>\n",
              "    </tr>\n",
              "  </thead>\n",
              "  <tbody>\n",
              "    <tr>\n",
              "      <th>0</th>\n",
              "      <td>1</td>\n",
              "      <td>21.0</td>\n",
              "      <td>1.62</td>\n",
              "      <td>64.0</td>\n",
              "      <td>1</td>\n",
              "      <td>0</td>\n",
              "      <td>2.0</td>\n",
              "      <td>3.0</td>\n",
              "      <td>1</td>\n",
              "      <td>0</td>\n",
              "      <td>2.0</td>\n",
              "      <td>0</td>\n",
              "      <td>0.0</td>\n",
              "      <td>1.0</td>\n",
              "      <td>0</td>\n",
              "      <td>3</td>\n",
              "      <td>Normal_Weight</td>\n",
              "    </tr>\n",
              "    <tr>\n",
              "      <th>1</th>\n",
              "      <td>1</td>\n",
              "      <td>21.0</td>\n",
              "      <td>1.52</td>\n",
              "      <td>56.0</td>\n",
              "      <td>1</td>\n",
              "      <td>0</td>\n",
              "      <td>3.0</td>\n",
              "      <td>3.0</td>\n",
              "      <td>1</td>\n",
              "      <td>1</td>\n",
              "      <td>3.0</td>\n",
              "      <td>1</td>\n",
              "      <td>3.0</td>\n",
              "      <td>0.0</td>\n",
              "      <td>1</td>\n",
              "      <td>3</td>\n",
              "      <td>Normal_Weight</td>\n",
              "    </tr>\n",
              "    <tr>\n",
              "      <th>2</th>\n",
              "      <td>0</td>\n",
              "      <td>23.0</td>\n",
              "      <td>1.80</td>\n",
              "      <td>77.0</td>\n",
              "      <td>1</td>\n",
              "      <td>0</td>\n",
              "      <td>2.0</td>\n",
              "      <td>3.0</td>\n",
              "      <td>1</td>\n",
              "      <td>0</td>\n",
              "      <td>2.0</td>\n",
              "      <td>0</td>\n",
              "      <td>2.0</td>\n",
              "      <td>1.0</td>\n",
              "      <td>2</td>\n",
              "      <td>3</td>\n",
              "      <td>Normal_Weight</td>\n",
              "    </tr>\n",
              "    <tr>\n",
              "      <th>3</th>\n",
              "      <td>0</td>\n",
              "      <td>27.0</td>\n",
              "      <td>1.80</td>\n",
              "      <td>87.0</td>\n",
              "      <td>0</td>\n",
              "      <td>0</td>\n",
              "      <td>3.0</td>\n",
              "      <td>3.0</td>\n",
              "      <td>1</td>\n",
              "      <td>0</td>\n",
              "      <td>2.0</td>\n",
              "      <td>0</td>\n",
              "      <td>2.0</td>\n",
              "      <td>0.0</td>\n",
              "      <td>2</td>\n",
              "      <td>4</td>\n",
              "      <td>Overweight_Level_I</td>\n",
              "    </tr>\n",
              "    <tr>\n",
              "      <th>4</th>\n",
              "      <td>0</td>\n",
              "      <td>22.0</td>\n",
              "      <td>1.78</td>\n",
              "      <td>89.8</td>\n",
              "      <td>0</td>\n",
              "      <td>0</td>\n",
              "      <td>2.0</td>\n",
              "      <td>1.0</td>\n",
              "      <td>1</td>\n",
              "      <td>0</td>\n",
              "      <td>2.0</td>\n",
              "      <td>0</td>\n",
              "      <td>0.0</td>\n",
              "      <td>0.0</td>\n",
              "      <td>1</td>\n",
              "      <td>3</td>\n",
              "      <td>Overweight_Level_II</td>\n",
              "    </tr>\n",
              "  </tbody>\n",
              "</table>\n",
              "</div>"
            ],
            "text/plain": [
              "   Gender   Age  Height  Weight  ...  TUE  CALC  MTRANS           NObeyesdad\n",
              "0       1  21.0    1.62    64.0  ...  1.0     0       3        Normal_Weight\n",
              "1       1  21.0    1.52    56.0  ...  0.0     1       3        Normal_Weight\n",
              "2       0  23.0    1.80    77.0  ...  1.0     2       3        Normal_Weight\n",
              "3       0  27.0    1.80    87.0  ...  0.0     2       4   Overweight_Level_I\n",
              "4       0  22.0    1.78    89.8  ...  0.0     1       3  Overweight_Level_II\n",
              "\n",
              "[5 rows x 17 columns]"
            ]
          },
          "metadata": {
            "tags": []
          },
          "execution_count": 159
        }
      ]
    },
    {
      "cell_type": "markdown",
      "metadata": {
        "id": "65W4TdaqBsk0"
      },
      "source": [
        "##Separa treino"
      ]
    },
    {
      "cell_type": "code",
      "metadata": {
        "id": "OU1sHurhj5LZ",
        "colab": {
          "base_uri": "https://localhost:8080/"
        },
        "outputId": "6e6e5fbf-a0b0-4dc8-d985-7901672a2a63"
      },
      "source": [
        "x_tr, x_te, y_tr, y_te = train_test_split(X, Y,\n",
        "                                            test_size = 0.2,\n",
        "                                            random_state=33,\n",
        "                                            stratify=Y)\n",
        "\n",
        "print(x_tr.shape)\n",
        "print(x_te.shape)"
      ],
      "execution_count": 160,
      "outputs": [
        {
          "output_type": "stream",
          "text": [
            "(1688, 16)\n",
            "(423, 16)\n"
          ],
          "name": "stdout"
        }
      ]
    },
    {
      "cell_type": "markdown",
      "metadata": {
        "id": "DBJXg42XBz6E"
      },
      "source": [
        "##Arvore de decisão"
      ]
    },
    {
      "cell_type": "code",
      "metadata": {
        "id": "oFuWdvATkgyO",
        "colab": {
          "base_uri": "https://localhost:8080/"
        },
        "outputId": "be14f497-c1ee-4869-89c0-aa3a2a859ddc"
      },
      "source": [
        "dtc = DecisionTreeClassifier(random_state=33)\n",
        "dtc.fit(x_tr, y_tr)"
      ],
      "execution_count": 161,
      "outputs": [
        {
          "output_type": "execute_result",
          "data": {
            "text/plain": [
              "DecisionTreeClassifier(ccp_alpha=0.0, class_weight=None, criterion='gini',\n",
              "                       max_depth=None, max_features=None, max_leaf_nodes=None,\n",
              "                       min_impurity_decrease=0.0, min_impurity_split=None,\n",
              "                       min_samples_leaf=1, min_samples_split=2,\n",
              "                       min_weight_fraction_leaf=0.0, presort='deprecated',\n",
              "                       random_state=33, splitter='best')"
            ]
          },
          "metadata": {
            "tags": []
          },
          "execution_count": 161
        }
      ]
    },
    {
      "cell_type": "code",
      "metadata": {
        "id": "AcklFkiMlpRH",
        "colab": {
          "base_uri": "https://localhost:8080/"
        },
        "outputId": "dbfd69e9-7007-4c9c-f27a-76429bde9d08"
      },
      "source": [
        "y_pred = dtc.predict(x_te)\n",
        "accuracy_score(y_te, y_pred)"
      ],
      "execution_count": 162,
      "outputs": [
        {
          "output_type": "execute_result",
          "data": {
            "text/plain": [
              "0.9385342789598109"
            ]
          },
          "metadata": {
            "tags": []
          },
          "execution_count": 162
        }
      ]
    },
    {
      "cell_type": "code",
      "metadata": {
        "id": "VokP8mkL5TNi",
        "colab": {
          "base_uri": "https://localhost:8080/",
          "height": 283
        },
        "outputId": "6c378352-ad9f-4d72-b26f-6742b837f960"
      },
      "source": [
        "conf_mat = sklearn.metrics.confusion_matrix(y_te, y_pred)\r\n",
        "\r\n",
        "\r\n",
        "df_cm = pd.DataFrame(conf_mat, columns = ['IW', 'NW','OT_1', 'OT_2', 'OT_3', 'OL_1', 'OL_2'],\r\n",
        "                     index = ['IW', 'NW','OT_1', 'OT_2', 'OT_3', 'OL_1', 'OL_2'])\r\n",
        "\r\n",
        "cmap = sns.light_palette(\"#0622af\", as_cmap=True)\r\n",
        "plt.figure()\r\n",
        "sns.heatmap(df_cm, annot=True, cmap=cmap)"
      ],
      "execution_count": 163,
      "outputs": [
        {
          "output_type": "execute_result",
          "data": {
            "text/plain": [
              "<matplotlib.axes._subplots.AxesSubplot at 0x7fb53fc0c550>"
            ]
          },
          "metadata": {
            "tags": []
          },
          "execution_count": 163
        },
        {
          "output_type": "display_data",
          "data": {
            "image/png": "[encoded data removed]",
            "text/plain": [
              "<Figure size 432x288 with 2 Axes>"
            ]
          },
          "metadata": {
            "tags": [],
            "needs_background": "light"
          }
        }
      ]
    },
    {
      "cell_type": "code",
      "metadata": {
        "id": "3yYnuXPll8ek"
      },
      "source": [
        "tr_acc = []\n",
        "tr_std = []\n",
        "\n",
        "for this_md in range(2,50):\n",
        "    dtc = DecisionTreeClassifier(max_depth=this_md,random_state=33)\n",
        "    dtc.fit(x_tr, y_tr)\n",
        "    scores = cross_val_score(dtc, x_tr, y_tr, cv=10)\n",
        "    tr_acc.append(scores.mean())\n",
        "    tr_std.append(np.std(scores))"
      ],
      "execution_count": 164,
      "outputs": []
    },
    {
      "cell_type": "markdown",
      "metadata": {
        "id": "pA1hlsDgCJm0"
      },
      "source": [
        "###Erros com base na profundidade"
      ]
    },
    {
      "cell_type": "code",
      "metadata": {
        "id": "61UtJjm9nEKt",
        "colab": {
          "base_uri": "https://localhost:8080/",
          "height": 282
        },
        "outputId": "6000b803-865a-40e4-baed-9122d2e52f23"
      },
      "source": [
        "plt.errorbar(x=range(2,50), y=tr_acc, yerr=tr_std)"
      ],
      "execution_count": 165,
      "outputs": [
        {
          "output_type": "execute_result",
          "data": {
            "text/plain": [
              "<ErrorbarContainer object of 3 artists>"
            ]
          },
          "metadata": {
            "tags": []
          },
          "execution_count": 165
        },
        {
          "output_type": "display_data",
          "data": {
            "image/png": "[encoded data removed]",
            "text/plain": [
              "<Figure size 432x288 with 1 Axes>"
            ]
          },
          "metadata": {
            "tags": [],
            "needs_background": "light"
          }
        }
      ]
    },
    {
      "cell_type": "code",
      "metadata": {
        "id": "3zpAEu7anlFu",
        "colab": {
          "base_uri": "https://localhost:8080/"
        },
        "outputId": "fa8a6ee9-d283-461c-93f2-d63d76c760e8"
      },
      "source": [
        "param_grid = {'criterion': ['entropy', 'gini'],\n",
        "              'max_depth': range(2,30,2),\n",
        "              'min_samples_leaf': range(2,10,2),\n",
        "              'min_impurity_decrease': np.linspace(0,0.5,10)}\n",
        "dtc = DecisionTreeClassifier()\n",
        "gs = GridSearchCV(dtc, param_grid=param_grid)\n",
        "gs.fit(x_tr, y_tr)"
      ],
      "execution_count": 166,
      "outputs": [
        {
          "output_type": "execute_result",
          "data": {
            "text/plain": [
              "GridSearchCV(cv=None, error_score=nan,\n",
              "             estimator=DecisionTreeClassifier(ccp_alpha=0.0, class_weight=None,\n",
              "                                              criterion='gini', max_depth=None,\n",
              "                                              max_features=None,\n",
              "                                              max_leaf_nodes=None,\n",
              "                                              min_impurity_decrease=0.0,\n",
              "                                              min_impurity_split=None,\n",
              "                                              min_samples_leaf=1,\n",
              "                                              min_samples_split=2,\n",
              "                                              min_weight_fraction_leaf=0.0,\n",
              "                                              presort='deprecated',\n",
              "                                              random_state=None,\n",
              "                                              splitter='best'),\n",
              "             iid='deprecated', n_jobs=None,\n",
              "             param_grid={'criterion': ['entropy', 'gini'],\n",
              "                         'max_depth': range(2, 30, 2),\n",
              "                         'min_impurity_decrease': array([0.        , 0.05555556, 0.11111111, 0.16666667, 0.22222222,\n",
              "       0.27777778, 0.33333333, 0.38888889, 0.44444444, 0.5       ]),\n",
              "                         'min_samples_leaf': range(2, 10, 2)},\n",
              "             pre_dispatch='2*n_jobs', refit=True, return_train_score=False,\n",
              "             scoring=None, verbose=0)"
            ]
          },
          "metadata": {
            "tags": []
          },
          "execution_count": 166
        }
      ]
    },
    {
      "cell_type": "code",
      "metadata": {
        "id": "20KsFQ8zo8Pu",
        "colab": {
          "base_uri": "https://localhost:8080/"
        },
        "outputId": "ab773dd3-c8c3-4926-a5f9-c15244d64fb9"
      },
      "source": [
        "gs.best_estimator_"
      ],
      "execution_count": 167,
      "outputs": [
        {
          "output_type": "execute_result",
          "data": {
            "text/plain": [
              "DecisionTreeClassifier(ccp_alpha=0.0, class_weight=None, criterion='entropy',\n",
              "                       max_depth=24, max_features=None, max_leaf_nodes=None,\n",
              "                       min_impurity_decrease=0.0, min_impurity_split=None,\n",
              "                       min_samples_leaf=4, min_samples_split=2,\n",
              "                       min_weight_fraction_leaf=0.0, presort='deprecated',\n",
              "                       random_state=None, splitter='best')"
            ]
          },
          "metadata": {
            "tags": []
          },
          "execution_count": 167
        }
      ]
    },
    {
      "cell_type": "markdown",
      "metadata": {
        "id": "cS8sS4RUCRPs"
      },
      "source": [
        "###Arvore de decisão com melhores hiperparemetros"
      ]
    },
    {
      "cell_type": "code",
      "metadata": {
        "id": "FgQr6_mapVrr",
        "colab": {
          "base_uri": "https://localhost:8080/"
        },
        "outputId": "64a23fe1-19cf-4002-9391-8f07eda1b553"
      },
      "source": [
        "dtc = DecisionTreeClassifier(ccp_alpha=0.0, class_weight=None, criterion='entropy',\n",
        "                       max_depth=12, max_features=None, max_leaf_nodes=None,\n",
        "                       min_impurity_decrease=0.0, min_impurity_split=None,\n",
        "                       min_samples_leaf=2, min_samples_split=2,\n",
        "                       min_weight_fraction_leaf=0.0, presort='deprecated',\n",
        "                       random_state=33, splitter='best')\n",
        "\n",
        "dtc.fit(x_tr, y_tr)\n",
        "y_pred_DTC = dtc.predict(x_te)\n",
        "accuracy_score(y_te, y_pred_DTC)"
      ],
      "execution_count": 168,
      "outputs": [
        {
          "output_type": "execute_result",
          "data": {
            "text/plain": [
              "0.9527186761229315"
            ]
          },
          "metadata": {
            "tags": []
          },
          "execution_count": 168
        }
      ]
    },
    {
      "cell_type": "code",
      "metadata": {
        "id": "8HK0A40Ow4xt",
        "colab": {
          "base_uri": "https://localhost:8080/",
          "height": 283
        },
        "outputId": "a778c77b-a4ca-4803-eb23-981387ccdfd6"
      },
      "source": [
        "conf_mat = sklearn.metrics.confusion_matrix(y_te, y_pred_DTC)\r\n",
        "\r\n",
        "\r\n",
        "df_cm = pd.DataFrame(conf_mat, columns = ['IW', 'NW','OT_1', 'OT_2', 'OT_3', 'OL_1', 'OL_2'],\r\n",
        "                     index = ['IW', 'NW','OT_1', 'OT_2', 'OT_3', 'OL_1', 'OL_2'])\r\n",
        "\r\n",
        "cmap = sns.light_palette(\"#0622af\", as_cmap=True)\r\n",
        "plt.figure()\r\n",
        "sns.heatmap(df_cm, annot=True, cmap=cmap)"
      ],
      "execution_count": 169,
      "outputs": [
        {
          "output_type": "execute_result",
          "data": {
            "text/plain": [
              "<matplotlib.axes._subplots.AxesSubplot at 0x7fb5400772b0>"
            ]
          },
          "metadata": {
            "tags": []
          },
          "execution_count": 169
        },
        {
          "output_type": "display_data",
          "data": {
            "image/png": "[encoded data removed]",
            "text/plain": [
              "<Figure size 432x288 with 2 Axes>"
            ]
          },
          "metadata": {
            "tags": [],
            "needs_background": "light"
          }
        }
      ]
    },
    {
      "cell_type": "markdown",
      "metadata": {
        "id": "1gjuhrLXCj_7"
      },
      "source": [
        "##Vizinhos próximos\r\n"
      ]
    },
    {
      "cell_type": "code",
      "metadata": {
        "id": "hyslLTMVp3tG",
        "colab": {
          "base_uri": "https://localhost:8080/"
        },
        "outputId": "c05c18e6-78aa-4eae-8141-f42e14585d4e"
      },
      "source": [
        "param_grid = {'weights': ['uniform', 'distance'],\n",
        "              'n_neighbors': range(1,15,2),\n",
        "              'metric': ['euclidean', 'manhattan']}\n",
        "\n",
        "knc = KNeighborsClassifier()\n",
        "gs = GridSearchCV(knc, param_grid=param_grid)\n",
        "gs.fit(x_tr, y_tr)"
      ],
      "execution_count": 170,
      "outputs": [
        {
          "output_type": "execute_result",
          "data": {
            "text/plain": [
              "GridSearchCV(cv=None, error_score=nan,\n",
              "             estimator=KNeighborsClassifier(algorithm='auto', leaf_size=30,\n",
              "                                            metric='minkowski',\n",
              "                                            metric_params=None, n_jobs=None,\n",
              "                                            n_neighbors=5, p=2,\n",
              "                                            weights='uniform'),\n",
              "             iid='deprecated', n_jobs=None,\n",
              "             param_grid={'metric': ['euclidean', 'manhattan'],\n",
              "                         'n_neighbors': range(1, 15, 2),\n",
              "                         'weights': ['uniform', 'distance']},\n",
              "             pre_dispatch='2*n_jobs', refit=True, return_train_score=False,\n",
              "             scoring=None, verbose=0)"
            ]
          },
          "metadata": {
            "tags": []
          },
          "execution_count": 170
        }
      ]
    },
    {
      "cell_type": "code",
      "metadata": {
        "id": "bHAxgmmgqSOn",
        "colab": {
          "base_uri": "https://localhost:8080/"
        },
        "outputId": "81872f13-3cd6-49c6-ccc2-81308ae97f13"
      },
      "source": [
        "gs.best_estimator_"
      ],
      "execution_count": 171,
      "outputs": [
        {
          "output_type": "execute_result",
          "data": {
            "text/plain": [
              "KNeighborsClassifier(algorithm='auto', leaf_size=30, metric='manhattan',\n",
              "                     metric_params=None, n_jobs=None, n_neighbors=1, p=2,\n",
              "                     weights='uniform')"
            ]
          },
          "metadata": {
            "tags": []
          },
          "execution_count": 171
        }
      ]
    },
    {
      "cell_type": "code",
      "metadata": {
        "id": "cbdEQ6bbqaZh",
        "colab": {
          "base_uri": "https://localhost:8080/"
        },
        "outputId": "9e6ad32f-8998-4e76-e353-589b14fb484e"
      },
      "source": [
        "knc = KNeighborsClassifier(algorithm='auto', leaf_size=30, metric='manhattan',\n",
        "                     metric_params=None, n_jobs=None, n_neighbors=1, p=2,\n",
        "                     weights='uniform')\n",
        "\n",
        "knc.fit(x_tr, y_tr)\n",
        "y_pred_knc = knc.predict(x_te)\n",
        "accuracy_score(y_te, y_pred_knc)"
      ],
      "execution_count": 172,
      "outputs": [
        {
          "output_type": "execute_result",
          "data": {
            "text/plain": [
              "0.8368794326241135"
            ]
          },
          "metadata": {
            "tags": []
          },
          "execution_count": 172
        }
      ]
    },
    {
      "cell_type": "code",
      "metadata": {
        "id": "r1AAbe6Qx2SE",
        "colab": {
          "base_uri": "https://localhost:8080/",
          "height": 283
        },
        "outputId": "6375049f-c649-45d5-918a-a1d9d98c9e67"
      },
      "source": [
        "conf_mat = sklearn.metrics.confusion_matrix(y_te, y_pred_knc)\r\n",
        "\r\n",
        "df_cm = pd.DataFrame(conf_mat, columns = ['IW', 'NW','OT_1', 'OT_2', 'OT_3', 'OL_1', 'OL_2'],\r\n",
        "                     index = ['IW', 'NW','OT_1', 'OT_2', 'OT_3', 'OL_1', 'OL_2'])\r\n",
        "\r\n",
        "cmap = sns.light_palette(\"#0622af\", as_cmap=True)\r\n",
        "plt.figure()\r\n",
        "sns.heatmap(df_cm, annot=True, cmap=cmap)"
      ],
      "execution_count": 173,
      "outputs": [
        {
          "output_type": "execute_result",
          "data": {
            "text/plain": [
              "<matplotlib.axes._subplots.AxesSubplot at 0x7fb53ffe1cf8>"
            ]
          },
          "metadata": {
            "tags": []
          },
          "execution_count": 173
        },
        {
          "output_type": "display_data",
          "data": {
            "image/png": "[encoded data removed]",
            "text/plain": [
              "<Figure size 432x288 with 2 Axes>"
            ]
          },
          "metadata": {
            "tags": [],
            "needs_background": "light"
          }
        }
      ]
    },
    {
      "cell_type": "markdown",
      "metadata": {
        "id": "Mx29QkdFCx09"
      },
      "source": [
        "###Vizinhos próximos com escalonamento"
      ]
    },
    {
      "cell_type": "code",
      "metadata": {
        "id": "b8dfwV-Gqm1A"
      },
      "source": [
        "scaler = StandardScaler().fit(x_tr)\n",
        "x_tr_scaled = scaler.transform(x_tr)"
      ],
      "execution_count": 174,
      "outputs": []
    },
    {
      "cell_type": "code",
      "metadata": {
        "id": "bYE8HSFKq-2G",
        "colab": {
          "base_uri": "https://localhost:8080/"
        },
        "outputId": "47a7675e-473c-4ffd-d140-3a1f268dcc60"
      },
      "source": [
        "param_grid = {'weights': ['uniform', 'distance'],\n",
        "              'n_neighbors': range(1,15,2),\n",
        "              'metric': ['euclidean', 'manhattan']}\n",
        "\n",
        "knc2 = KNeighborsClassifier()\n",
        "gs = GridSearchCV(knc2, param_grid=param_grid)\n",
        "gs.fit(x_tr_scaled, y_tr)\n",
        "\n",
        "gs.best_estimator_"
      ],
      "execution_count": 175,
      "outputs": [
        {
          "output_type": "execute_result",
          "data": {
            "text/plain": [
              "KNeighborsClassifier(algorithm='auto', leaf_size=30, metric='manhattan',\n",
              "                     metric_params=None, n_jobs=None, n_neighbors=1, p=2,\n",
              "                     weights='uniform')"
            ]
          },
          "metadata": {
            "tags": []
          },
          "execution_count": 175
        }
      ]
    },
    {
      "cell_type": "code",
      "metadata": {
        "id": "VVvAir_XrLDP",
        "colab": {
          "base_uri": "https://localhost:8080/"
        },
        "outputId": "5bff68b9-7524-4090-86ba-fa685224761d"
      },
      "source": [
        "knc2 = KNeighborsClassifier(algorithm='auto', leaf_size=30, metric='manhattan',\n",
        "                     metric_params=None, n_jobs=None, n_neighbors=3, p=2, \n",
        "                     weights='distance')\n",
        "\n",
        "knc2.fit(x_tr_scaled, y_tr)\n",
        "y_pred_knc2 = knc2.predict(scaler.transform(x_te))\n",
        "accuracy_score(y_te, y_pred_knc2)"
      ],
      "execution_count": 176,
      "outputs": [
        {
          "output_type": "execute_result",
          "data": {
            "text/plain": [
              "0.8439716312056738"
            ]
          },
          "metadata": {
            "tags": []
          },
          "execution_count": 176
        }
      ]
    },
    {
      "cell_type": "code",
      "metadata": {
        "id": "B_186Q4Kx6qM",
        "colab": {
          "base_uri": "https://localhost:8080/",
          "height": 283
        },
        "outputId": "888899c3-d71f-47e2-bf6d-dc3ffdc32c97"
      },
      "source": [
        "conf_mat = sklearn.metrics.confusion_matrix(y_te, y_pred_knc2)\r\n",
        "\r\n",
        "df_cm = pd.DataFrame(conf_mat, columns = ['IW', 'NW','OT_1', 'OT_2', 'OT_3', 'OL_1', 'OL_2'],\r\n",
        "                     index = ['IW', 'NW','OT_1', 'OT_2', 'OT_3', 'OL_1', 'OL_2'])\r\n",
        "\r\n",
        "cmap = sns.light_palette(\"#0622af\", as_cmap=True)\r\n",
        "plt.figure()\r\n",
        "sns.heatmap(df_cm, annot=True, cmap=cmap)"
      ],
      "execution_count": 177,
      "outputs": [
        {
          "output_type": "execute_result",
          "data": {
            "text/plain": [
              "<matplotlib.axes._subplots.AxesSubplot at 0x7fb53f82e828>"
            ]
          },
          "metadata": {
            "tags": []
          },
          "execution_count": 177
        },
        {
          "output_type": "display_data",
          "data": {
            "image/png": "[encoded data removed]",
            "text/plain": [
              "<Figure size 432x288 with 2 Axes>"
            ]
          },
          "metadata": {
            "tags": [],
            "needs_background": "light"
          }
        }
      ]
    },
    {
      "cell_type": "markdown",
      "metadata": {
        "id": "zgw4pV_V3-AR"
      },
      "source": [
        "##Máquina de vetores de suporte"
      ]
    },
    {
      "cell_type": "code",
      "metadata": {
        "id": "Eb8wajkrgoTZ",
        "colab": {
          "base_uri": "https://localhost:8080/"
        },
        "outputId": "8761b13c-6517-4bda-f94e-cba5243b50bc"
      },
      "source": [
        "param_grid = {'C': [0.1, 1, 10, 100, 1000],  \r\n",
        "              'gamma': [1, 0.1, 0.01, 0.001, 0.0001], #gamma é utilizado no kernel rbf\r\n",
        "              'kernel': ['rbf','linear'],\r\n",
        "              'decision_function_shape' : ['ovo', 'ovr'],\r\n",
        "              'random_state' : [33]}  \r\n",
        "\r\n",
        "s = svm.SVC()\r\n",
        "\r\n",
        "# defining parameter range \r\n",
        "  \r\n",
        "grid = GridSearchCV(s, param_grid=param_grid) \r\n",
        "  \r\n",
        "# fitting the model for grid search \r\n",
        "grid.fit(x_tr, y_tr) \r\n",
        "grid.best_params_"
      ],
      "execution_count": 178,
      "outputs": [
        {
          "output_type": "execute_result",
          "data": {
            "text/plain": [
              "{'C': 1000,\n",
              " 'decision_function_shape': 'ovo',\n",
              " 'gamma': 1,\n",
              " 'kernel': 'linear',\n",
              " 'random_state': 33}"
            ]
          },
          "metadata": {
            "tags": []
          },
          "execution_count": 178
        }
      ]
    },
    {
      "cell_type": "code",
      "metadata": {
        "id": "P61DDfEWR3U0",
        "colab": {
          "base_uri": "https://localhost:8080/"
        },
        "outputId": "2363ef66-274a-40f6-b55f-6e4c99922d48"
      },
      "source": [
        "clf = svm.SVC(C = 100, gamma = 1, kernel='linear', random_state=33) \r\n",
        "#no caso de nao termos o peso o melhor kernel será 'rbf' aumentando de 64% para 77% em relacao ao linear\r\n",
        "clf.fit(x_tr, y_tr)\r\n",
        "y_pred = clf.predict(x_te)\r\n",
        "print(accuracy_score(y_te, y_pred))"
      ],
      "execution_count": 179,
      "outputs": [
        {
          "output_type": "stream",
          "text": [
            "0.9739952718676123\n"
          ],
          "name": "stdout"
        }
      ]
    },
    {
      "cell_type": "code",
      "metadata": {
        "id": "u3zLrHS5Wy46",
        "colab": {
          "base_uri": "https://localhost:8080/",
          "height": 283
        },
        "outputId": "d1074dbc-53e4-4626-c9cb-fe20a8494c93"
      },
      "source": [
        "conf_mat = sklearn.metrics.confusion_matrix(y_te, y_pred)\r\n",
        "\r\n",
        "df_cm = pd.DataFrame(conf_mat, columns = ['IW', 'NW','OT_1', 'OT_2', 'OT_3', 'OL_1', 'OL_2'],\r\n",
        "                     index = ['IW', 'NW','OT_1', 'OT_2', 'OT_3', 'OL_1', 'OL_2'])\r\n",
        "\r\n",
        "cmap = sns.light_palette(\"#0622af\", as_cmap=True)\r\n",
        "plt.figure()\r\n",
        "sns.heatmap(df_cm, annot=True, cmap=cmap)"
      ],
      "execution_count": 180,
      "outputs": [
        {
          "output_type": "execute_result",
          "data": {
            "text/plain": [
              "<matplotlib.axes._subplots.AxesSubplot at 0x7fb53f6a2b38>"
            ]
          },
          "metadata": {
            "tags": []
          },
          "execution_count": 180
        },
        {
          "output_type": "display_data",
          "data": {
            "image/png": "[encoded data removed]",
            "text/plain": [
              "<Figure size 432x288 with 2 Axes>"
            ]
          },
          "metadata": {
            "tags": [],
            "needs_background": "light"
          }
        }
      ]
    },
    {
      "cell_type": "code",
      "metadata": {
        "id": "ClhZ9yH6_lYJ"
      },
      "source": [
        ""
      ],
      "execution_count": 180,
      "outputs": []
    }
  ]
}